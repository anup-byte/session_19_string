{
 "cells": [
  {
   "cell_type": "code",
   "execution_count": null,
   "id": "34bbfa56",
   "metadata": {},
   "outputs": [],
   "source": [
    "#American Standard code for Information Interchange(ASCII)"
   ]
  },
  {
   "cell_type": "code",
   "execution_count": 1,
   "id": "36a45d60",
   "metadata": {},
   "outputs": [
    {
     "name": "stdout",
     "output_type": "stream",
     "text": [
      "Anna rakesh gupta\n"
     ]
    }
   ],
   "source": [
    "mystring1 = \"Anna rakesh gupta\"\n",
    "print(mystring1)"
   ]
  },
  {
   "cell_type": "code",
   "execution_count": 2,
   "id": "3a3b5010",
   "metadata": {},
   "outputs": [
    {
     "name": "stdout",
     "output_type": "stream",
     "text": [
      "Anna rakesh gupta\n"
     ]
    }
   ],
   "source": [
    "mystring2 = 'Anna rakesh gupta'\n",
    "print(mystring2)"
   ]
  },
  {
   "cell_type": "code",
   "execution_count": 5,
   "id": "c2445eeb",
   "metadata": {},
   "outputs": [
    {
     "name": "stdout",
     "output_type": "stream",
     "text": [
      "Anna rakesh gupta\n"
     ]
    }
   ],
   "source": [
    "mystring3 = '''Anna rakesh gupta'''\n",
    "print(mystring3)"
   ]
  },
  {
   "cell_type": "code",
   "execution_count": 6,
   "id": "0699b8a1",
   "metadata": {},
   "outputs": [
    {
     "data": {
      "text/plain": [
       "'Anna rakesh gupta'"
      ]
     },
     "execution_count": 6,
     "metadata": {},
     "output_type": "execute_result"
    }
   ],
   "source": [
    "mystring1"
   ]
  },
  {
   "cell_type": "code",
   "execution_count": 7,
   "id": "817e1021",
   "metadata": {},
   "outputs": [
    {
     "data": {
      "text/plain": [
       "'r'"
      ]
     },
     "execution_count": 7,
     "metadata": {},
     "output_type": "execute_result"
    }
   ],
   "source": [
    "mystring1[5]"
   ]
  },
  {
   "cell_type": "code",
   "execution_count": 8,
   "id": "d1dc85d5",
   "metadata": {},
   "outputs": [
    {
     "data": {
      "text/plain": [
       "'A'"
      ]
     },
     "execution_count": 8,
     "metadata": {},
     "output_type": "execute_result"
    }
   ],
   "source": [
    "mystring1[0]"
   ]
  },
  {
   "cell_type": "code",
   "execution_count": 9,
   "id": "d873aa68",
   "metadata": {},
   "outputs": [
    {
     "data": {
      "text/plain": [
       "'t'"
      ]
     },
     "execution_count": 9,
     "metadata": {},
     "output_type": "execute_result"
    }
   ],
   "source": [
    "mystring1[-2]"
   ]
  },
  {
   "cell_type": "code",
   "execution_count": 11,
   "id": "62233b5c",
   "metadata": {},
   "outputs": [
    {
     "data": {
      "text/plain": [
       "'gupta'"
      ]
     },
     "execution_count": 11,
     "metadata": {},
     "output_type": "execute_result"
    }
   ],
   "source": [
    "mystring1[12:]"
   ]
  },
  {
   "cell_type": "code",
   "execution_count": 13,
   "id": "1637011a",
   "metadata": {},
   "outputs": [
    {
     "data": {
      "text/plain": [
       "'rakesh'"
      ]
     },
     "execution_count": 13,
     "metadata": {},
     "output_type": "execute_result"
    }
   ],
   "source": [
    "mystring1[5:11]"
   ]
  },
  {
   "cell_type": "code",
   "execution_count": 16,
   "id": "67dd9ae8",
   "metadata": {},
   "outputs": [
    {
     "data": {
      "text/plain": [
       "'hsekar'"
      ]
     },
     "execution_count": 16,
     "metadata": {},
     "output_type": "execute_result"
    }
   ],
   "source": [
    "mystring1[-7:-13:-1]"
   ]
  },
  {
   "cell_type": "code",
   "execution_count": 18,
   "id": "cbb95328",
   "metadata": {},
   "outputs": [
    {
     "data": {
      "text/plain": [
       "'t'"
      ]
     },
     "execution_count": 18,
     "metadata": {},
     "output_type": "execute_result"
    }
   ],
   "source": [
    "mystring1[15]"
   ]
  },
  {
   "cell_type": "code",
   "execution_count": 19,
   "id": "2d23c4a0",
   "metadata": {},
   "outputs": [
    {
     "ename": "IndexError",
     "evalue": "string index out of range",
     "output_type": "error",
     "traceback": [
      "\u001b[0;31m---------------------------------------------------------------------------\u001b[0m",
      "\u001b[0;31mIndexError\u001b[0m                                Traceback (most recent call last)",
      "Cell \u001b[0;32mIn[19], line 1\u001b[0m\n\u001b[0;32m----> 1\u001b[0m mystring1[\u001b[38;5;241m20\u001b[39m]\n",
      "\u001b[0;31mIndexError\u001b[0m: string index out of range"
     ]
    }
   ],
   "source": [
    "mystring1[20]"
   ]
  },
  {
   "cell_type": "code",
   "execution_count": 20,
   "id": "ae8f3816",
   "metadata": {},
   "outputs": [
    {
     "ename": "TypeError",
     "evalue": "string indices must be integers, not 'float'",
     "output_type": "error",
     "traceback": [
      "\u001b[0;31m---------------------------------------------------------------------------\u001b[0m",
      "\u001b[0;31mTypeError\u001b[0m                                 Traceback (most recent call last)",
      "Cell \u001b[0;32mIn[20], line 1\u001b[0m\n\u001b[0;32m----> 1\u001b[0m mystring1[\u001b[38;5;241m1.5\u001b[39m]\n",
      "\u001b[0;31mTypeError\u001b[0m: string indices must be integers, not 'float'"
     ]
    }
   ],
   "source": [
    "mystring1[1.5]"
   ]
  },
  {
   "cell_type": "code",
   "execution_count": 21,
   "id": "77c24619",
   "metadata": {},
   "outputs": [
    {
     "ename": "TypeError",
     "evalue": "'str' object does not support item assignment",
     "output_type": "error",
     "traceback": [
      "\u001b[0;31m---------------------------------------------------------------------------\u001b[0m",
      "\u001b[0;31mTypeError\u001b[0m                                 Traceback (most recent call last)",
      "Cell \u001b[0;32mIn[21], line 2\u001b[0m\n\u001b[1;32m      1\u001b[0m mystring \u001b[38;5;241m=\u001b[39m \u001b[38;5;124m\"\u001b[39m\u001b[38;5;124mHello\u001b[39m\u001b[38;5;124m\"\u001b[39m\n\u001b[0;32m----> 2\u001b[0m mystring[\u001b[38;5;241m4\u001b[39m] \u001b[38;5;241m=\u001b[39m \u001b[38;5;124m'\u001b[39m\u001b[38;5;124ms\u001b[39m\u001b[38;5;124m'\u001b[39m\n",
      "\u001b[0;31mTypeError\u001b[0m: 'str' object does not support item assignment"
     ]
    }
   ],
   "source": [
    "# string is immutable data type\n",
    "mystring = \"Hello\"\n",
    "mystring[4] = 's'"
   ]
  },
  {
   "cell_type": "code",
   "execution_count": 22,
   "id": "0e67443f",
   "metadata": {},
   "outputs": [],
   "source": [
    "del mystring"
   ]
  },
  {
   "cell_type": "code",
   "execution_count": 23,
   "id": "7f7be73f",
   "metadata": {},
   "outputs": [
    {
     "ename": "NameError",
     "evalue": "name 'mystring' is not defined",
     "output_type": "error",
     "traceback": [
      "\u001b[0;31m---------------------------------------------------------------------------\u001b[0m",
      "\u001b[0;31mNameError\u001b[0m                                 Traceback (most recent call last)",
      "Cell \u001b[0;32mIn[23], line 1\u001b[0m\n\u001b[0;32m----> 1\u001b[0m mystring\n",
      "\u001b[0;31mNameError\u001b[0m: name 'mystring' is not defined"
     ]
    }
   ],
   "source": [
    "mystring"
   ]
  },
  {
   "cell_type": "code",
   "execution_count": 24,
   "id": "31a76c4c",
   "metadata": {},
   "outputs": [
    {
     "data": {
      "text/plain": [
       "'helloGood Night'"
      ]
     },
     "execution_count": 24,
     "metadata": {},
     "output_type": "execute_result"
    }
   ],
   "source": [
    "#concatenation\n",
    "\n",
    "s1 = \"hello\"\n",
    "s2 = \"Good Night\"\n",
    "\n",
    "s1 + s2"
   ]
  },
  {
   "cell_type": "code",
   "execution_count": 25,
   "id": "8b818bee",
   "metadata": {},
   "outputs": [
    {
     "data": {
      "text/plain": [
       "'hello Good Night'"
      ]
     },
     "execution_count": 25,
     "metadata": {},
     "output_type": "execute_result"
    }
   ],
   "source": [
    "s1 + ' ' + s2"
   ]
  },
  {
   "cell_type": "code",
   "execution_count": 26,
   "id": "5b523a40",
   "metadata": {},
   "outputs": [
    {
     "data": {
      "text/plain": [
       "'hello Good Night'"
      ]
     },
     "execution_count": 26,
     "metadata": {},
     "output_type": "execute_result"
    }
   ],
   "source": [
    "s1 = \"hello \"\n",
    "s2 = \"Good Night\"\n",
    "s1 + s2"
   ]
  },
  {
   "cell_type": "code",
   "execution_count": 27,
   "id": "be271c07",
   "metadata": {},
   "outputs": [
    {
     "data": {
      "text/plain": [
       "'hello Good Night'"
      ]
     },
     "execution_count": 27,
     "metadata": {},
     "output_type": "execute_result"
    }
   ],
   "source": [
    "s1 = \"hello\"\n",
    "s2 = \" Good Night\"\n",
    "s1 + s2"
   ]
  },
  {
   "cell_type": "code",
   "execution_count": 28,
   "id": "fbadb92a",
   "metadata": {},
   "outputs": [
    {
     "data": {
      "text/plain": [
       "'hellohellohello'"
      ]
     },
     "execution_count": 28,
     "metadata": {},
     "output_type": "execute_result"
    }
   ],
   "source": [
    "s1 * 3"
   ]
  },
  {
   "cell_type": "code",
   "execution_count": 29,
   "id": "1c0edbb2",
   "metadata": {},
   "outputs": [
    {
     "data": {
      "text/plain": [
       "'hello hello hello '"
      ]
     },
     "execution_count": 29,
     "metadata": {},
     "output_type": "execute_result"
    }
   ],
   "source": [
    "s1 = \"hello \"\n",
    "s1 * 3"
   ]
  },
  {
   "cell_type": "code",
   "execution_count": 30,
   "id": "b7a443c2",
   "metadata": {},
   "outputs": [
    {
     "name": "stdout",
     "output_type": "stream",
     "text": [
      "A\n",
      "n\n",
      "n\n",
      "a\n",
      " \n",
      "r\n",
      "a\n",
      "k\n",
      "e\n",
      "s\n",
      "h\n",
      " \n",
      "g\n",
      "u\n",
      "p\n",
      "t\n",
      "a\n"
     ]
    }
   ],
   "source": [
    "mystring1 = \"Anna rakesh gupta\"\n",
    "\n",
    "for i in mystring1:\n",
    "    print(i)\n"
   ]
  },
  {
   "cell_type": "code",
   "execution_count": 31,
   "id": "b41b3c05",
   "metadata": {},
   "outputs": [
    {
     "name": "stdout",
     "output_type": "stream",
     "text": [
      "Anna rakesh gupta"
     ]
    }
   ],
   "source": [
    "for i in mystring1:\n",
    "    print(i, end = '')"
   ]
  },
  {
   "cell_type": "code",
   "execution_count": null,
   "id": "c1d02649",
   "metadata": {},
   "outputs": [],
   "source": [
    "\"hello world\"\n",
    "how many 'o' is present in this string"
   ]
  },
  {
   "cell_type": "code",
   "execution_count": 32,
   "id": "69518dd9",
   "metadata": {},
   "outputs": [
    {
     "ename": "NameError",
     "evalue": "name 'Print' is not defined",
     "output_type": "error",
     "traceback": [
      "\u001b[0;31m---------------------------------------------------------------------------\u001b[0m",
      "\u001b[0;31mNameError\u001b[0m                                 Traceback (most recent call last)",
      "Cell \u001b[0;32mIn[32], line 1\u001b[0m\n\u001b[0;32m----> 1\u001b[0m Print(\u001b[38;5;28mstr\u001b[39m\u001b[38;5;241m.\u001b[39mcount(\u001b[38;5;124m\"\u001b[39m\u001b[38;5;124mo\u001b[39m\u001b[38;5;124m\"\u001b[39m))\n",
      "\u001b[0;31mNameError\u001b[0m: name 'Print' is not defined"
     ]
    }
   ],
   "source": [
    "print(str.count(\"o\"))"
   ]
  },
  {
   "cell_type": "code",
   "execution_count": 33,
   "id": "d94349d6",
   "metadata": {},
   "outputs": [
    {
     "name": "stdout",
     "output_type": "stream",
     "text": [
      "2\n"
     ]
    }
   ],
   "source": [
    "count = 0\n",
    "for l in \"hello world\":\n",
    "    if l == 'o':\n",
    "        count = count + 1\n",
    "print(count)        "
   ]
  },
  {
   "cell_type": "code",
   "execution_count": 35,
   "id": "1a7f2f40",
   "metadata": {},
   "outputs": [
    {
     "name": "stdout",
     "output_type": "stream",
     "text": [
      "2\n"
     ]
    }
   ],
   "source": [
    "\n",
    "\n",
    "Str =\"hello world\"\n",
    "print(Str.count(\"o\"))"
   ]
  },
  {
   "cell_type": "code",
   "execution_count": 36,
   "id": "a3476ea1",
   "metadata": {},
   "outputs": [
    {
     "data": {
      "text/plain": [
       "True"
      ]
     },
     "execution_count": 36,
     "metadata": {},
     "output_type": "execute_result"
    }
   ],
   "source": [
    "'l' in 'Hello world'"
   ]
  },
  {
   "cell_type": "code",
   "execution_count": 37,
   "id": "14054822",
   "metadata": {},
   "outputs": [
    {
     "data": {
      "text/plain": [
       "False"
      ]
     },
     "execution_count": 37,
     "metadata": {},
     "output_type": "execute_result"
    }
   ],
   "source": [
    "'x' in 'Hello world'"
   ]
  },
  {
   "cell_type": "code",
   "execution_count": 38,
   "id": "188fe4b8",
   "metadata": {},
   "outputs": [
    {
     "data": {
      "text/plain": [
       "'HELLO'"
      ]
     },
     "execution_count": 38,
     "metadata": {},
     "output_type": "execute_result"
    }
   ],
   "source": [
    "\"hello\".upper()"
   ]
  },
  {
   "cell_type": "code",
   "execution_count": 39,
   "id": "6fef4dca",
   "metadata": {},
   "outputs": [
    {
     "data": {
      "text/plain": [
       "'hyllo'"
      ]
     },
     "execution_count": 39,
     "metadata": {},
     "output_type": "execute_result"
    }
   ],
   "source": [
    "\"HyLLO\".lower()"
   ]
  },
  {
   "cell_type": "code",
   "execution_count": 40,
   "id": "69883aae",
   "metadata": {},
   "outputs": [
    {
     "data": {
      "text/plain": [
       "['This', 'will', 'split', 'all', 'the', 'words', 'in', 'a', 'list']"
      ]
     },
     "execution_count": 40,
     "metadata": {},
     "output_type": "execute_result"
    }
   ],
   "source": [
    "\"This will split all the words in a list\".split()"
   ]
  },
  {
   "cell_type": "code",
   "execution_count": 41,
   "id": "323a621c",
   "metadata": {},
   "outputs": [
    {
     "data": {
      "text/plain": [
       "'This will split all the words in a list'"
      ]
     },
     "execution_count": 41,
     "metadata": {},
     "output_type": "execute_result"
    }
   ],
   "source": [
    "' '.join(['This', 'will', 'split', 'all', 'the', 'words', 'in', 'a', 'list'])"
   ]
  },
  {
   "cell_type": "code",
   "execution_count": 42,
   "id": "1b9750ef",
   "metadata": {},
   "outputs": [
    {
     "data": {
      "text/plain": [
       "['This will', ' split all the words', ' in a list']"
      ]
     },
     "execution_count": 42,
     "metadata": {},
     "output_type": "execute_result"
    }
   ],
   "source": [
    "\"This will, split all the words, in a list\".split(',')"
   ]
  },
  {
   "cell_type": "code",
   "execution_count": 43,
   "id": "d5f44795",
   "metadata": {},
   "outputs": [
    {
     "data": {
      "text/plain": [
       "5"
      ]
     },
     "execution_count": 43,
     "metadata": {},
     "output_type": "execute_result"
    }
   ],
   "source": [
    "\"Good Morning\".find(\"Mo\")"
   ]
  },
  {
   "cell_type": "code",
   "execution_count": 44,
   "id": "5fe554ab",
   "metadata": {},
   "outputs": [
    {
     "name": "stdout",
     "output_type": "stream",
     "text": [
      "Bad morning\n",
      "Good morning\n"
     ]
    }
   ],
   "source": [
    "s1 = \"Bad morning\"\n",
    "\n",
    "s2 = s1.replace(\"Bad\", \"Good\")\n",
    "\n",
    "print(s1)\n",
    "print(s2)"
   ]
  },
  {
   "cell_type": "code",
   "execution_count": null,
   "id": "89abc326",
   "metadata": {},
   "outputs": [],
   "source": [
    "# write a python program to check where the string is palindrome or not?"
   ]
  },
  {
   "cell_type": "code",
   "execution_count": null,
   "id": "cdf7e66b",
   "metadata": {},
   "outputs": [],
   "source": [
    "mystring = 'Madam'"
   ]
  },
  {
   "cell_type": "code",
   "execution_count": 51,
   "id": "ad52d621",
   "metadata": {},
   "outputs": [
    {
     "name": "stdout",
     "output_type": "stream",
     "text": [
      "palindrome\n"
     ]
    }
   ],
   "source": [
    "st = \"MaDam\"\n",
    "st = st.lower()\n",
    "\n",
    "rev = reversed(st)\n",
    "\n",
    "if list(st) == list(rev):\n",
    "    print(\"palindrome\")\n",
    "else:\n",
    "    print(\"not palindrome\")"
   ]
  },
  {
   "cell_type": "code",
   "execution_count": 60,
   "id": "f824d646",
   "metadata": {},
   "outputs": [
    {
     "name": "stdout",
     "output_type": "stream",
     "text": [
      "enter a stringDad\n",
      "dad is a pallindrom\n"
     ]
    }
   ],
   "source": [
    "n = input (\"enter a string\")\n",
    "n = n.lower()\n",
    "if n ==n[::-1]:\n",
    "    print(n+\" is a pallindrom\")\n",
    "else:\n",
    "     print(n+\" is not a pallindrom\")"
   ]
  },
  {
   "cell_type": "code",
   "execution_count": 50,
   "id": "154215eb",
   "metadata": {},
   "outputs": [
    {
     "data": {
      "text/plain": [
       "<reversed at 0x112ba5330>"
      ]
     },
     "execution_count": 50,
     "metadata": {},
     "output_type": "execute_result"
    }
   ],
   "source": []
  },
  {
   "cell_type": "code",
   "execution_count": 53,
   "id": "b02bff02",
   "metadata": {},
   "outputs": [
    {
     "data": {
      "text/plain": [
       "<reversed at 0x112ba6260>"
      ]
     },
     "execution_count": 53,
     "metadata": {},
     "output_type": "execute_result"
    }
   ],
   "source": [
    "st = 'madam'\n",
    "\n",
    "rev = reversed(st)\n",
    "\n",
    "rev"
   ]
  },
  {
   "cell_type": "code",
   "execution_count": null,
   "id": "eda420f3",
   "metadata": {},
   "outputs": [],
   "source": []
  },
  {
   "cell_type": "code",
   "execution_count": 64,
   "id": "ca49db6e",
   "metadata": {},
   "outputs": [
    {
     "name": "stdout",
     "output_type": "stream",
     "text": [
      "['d', 'a', 'd']\n",
      "['d', 'a', 'd']\n"
     ]
    }
   ],
   "source": [
    "s1 = \"DAd\"\n",
    "s1 = s1.lower()\n",
    "\n",
    "revs = reversed(s1)\n",
    "\n",
    "print(list(s1))\n",
    "print(list(revs))"
   ]
  },
  {
   "cell_type": "code",
   "execution_count": null,
   "id": "692e8dc1",
   "metadata": {},
   "outputs": [],
   "source": [
    "#write a program to sord words in Alphabetic order"
   ]
  },
  {
   "cell_type": "code",
   "execution_count": 65,
   "id": "98e538e0",
   "metadata": {},
   "outputs": [
    {
     "data": {
      "text/plain": [
       "[1, 2, 3]"
      ]
     },
     "execution_count": 65,
     "metadata": {},
     "output_type": "execute_result"
    }
   ],
   "source": [
    "mylist = [1,2,3,[]]\n",
    "mylist.pop()\n",
    "mylist"
   ]
  },
  {
   "cell_type": "code",
   "execution_count": 66,
   "id": "9720644b",
   "metadata": {},
   "outputs": [],
   "source": [
    "mylist = [1,2,[],3]\n"
   ]
  },
  {
   "cell_type": "code",
   "execution_count": 69,
   "id": "6aec5f07",
   "metadata": {},
   "outputs": [
    {
     "ename": "ValueError",
     "evalue": "list.remove(x): x not in list",
     "output_type": "error",
     "traceback": [
      "\u001b[0;31m---------------------------------------------------------------------------\u001b[0m",
      "\u001b[0;31mValueError\u001b[0m                                Traceback (most recent call last)",
      "Cell \u001b[0;32mIn[69], line 1\u001b[0m\n\u001b[0;32m----> 1\u001b[0m mylist\u001b[38;5;241m.\u001b[39mremove(\u001b[38;5;241m0\u001b[39m)\n\u001b[1;32m      2\u001b[0m mylist\n",
      "\u001b[0;31mValueError\u001b[0m: list.remove(x): x not in list"
     ]
    }
   ],
   "source": [
    "mylist.remove(0)\n",
    "mylist"
   ]
  },
  {
   "cell_type": "code",
   "execution_count": 72,
   "id": "029d5463",
   "metadata": {},
   "outputs": [],
   "source": [
    "mylist = [1,2,[],[],3]"
   ]
  },
  {
   "cell_type": "code",
   "execution_count": 74,
   "id": "78ee5034",
   "metadata": {},
   "outputs": [
    {
     "data": {
      "text/plain": [
       "[1, 2, 3]"
      ]
     },
     "execution_count": 74,
     "metadata": {},
     "output_type": "execute_result"
    }
   ],
   "source": [
    "mylist.remove([])\n",
    "mylist"
   ]
  },
  {
   "cell_type": "code",
   "execution_count": 75,
   "id": "ccde4dd4",
   "metadata": {},
   "outputs": [
    {
     "data": {
      "text/plain": [
       "[]"
      ]
     },
     "execution_count": 75,
     "metadata": {},
     "output_type": "execute_result"
    }
   ],
   "source": [
    "mylist = [1,2,3,4,[],[], 5, 6, 7, 8]\n",
    "[i for i in mylist if type(mylist) == int]"
   ]
  },
  {
   "cell_type": "code",
   "execution_count": 76,
   "id": "5f21d38b",
   "metadata": {},
   "outputs": [],
   "source": [
    "mylist = [1,2,3,4,[],[], 5, 6, 7, 8]\n"
   ]
  },
  {
   "cell_type": "code",
   "execution_count": 77,
   "id": "96a569fb",
   "metadata": {},
   "outputs": [
    {
     "data": {
      "text/plain": [
       "[1, 2, 3, 4, 5, 6, 7, 8]"
      ]
     },
     "execution_count": 77,
     "metadata": {},
     "output_type": "execute_result"
    }
   ],
   "source": [
    "[i for i in mylist if type(i) == int]"
   ]
  },
  {
   "cell_type": "code",
   "execution_count": 78,
   "id": "3b888707",
   "metadata": {},
   "outputs": [
    {
     "data": {
      "text/plain": [
       "[1, 2, 3, 4, 5, 6, 7, 8]"
      ]
     },
     "execution_count": 78,
     "metadata": {},
     "output_type": "execute_result"
    }
   ],
   "source": [
    "[i for i in mylist if i]"
   ]
  },
  {
   "cell_type": "code",
   "execution_count": null,
   "id": "5c21adb9",
   "metadata": {},
   "outputs": [],
   "source": []
  },
  {
   "cell_type": "code",
   "execution_count": null,
   "id": "b49bd139",
   "metadata": {},
   "outputs": [],
   "source": []
  },
  {
   "cell_type": "code",
   "execution_count": null,
   "id": "202a58fb",
   "metadata": {},
   "outputs": [],
   "source": []
  },
  {
   "cell_type": "code",
   "execution_count": null,
   "id": "7ea086ee",
   "metadata": {},
   "outputs": [],
   "source": []
  },
  {
   "cell_type": "code",
   "execution_count": null,
   "id": "476084a4",
   "metadata": {},
   "outputs": [],
   "source": []
  },
  {
   "cell_type": "code",
   "execution_count": null,
   "id": "315f1cb9",
   "metadata": {},
   "outputs": [],
   "source": []
  },
  {
   "cell_type": "code",
   "execution_count": null,
   "id": "1b01be15",
   "metadata": {},
   "outputs": [],
   "source": []
  },
  {
   "cell_type": "code",
   "execution_count": null,
   "id": "5633d7b0",
   "metadata": {},
   "outputs": [],
   "source": []
  }
 ],
 "metadata": {
  "kernelspec": {
   "display_name": "Python 3 (ipykernel)",
   "language": "python",
   "name": "python3"
  },
  "language_info": {
   "codemirror_mode": {
    "name": "ipython",
    "version": 3
   },
   "file_extension": ".py",
   "mimetype": "text/x-python",
   "name": "python",
   "nbconvert_exporter": "python",
   "pygments_lexer": "ipython3",
   "version": "3.11.4"
  }
 },
 "nbformat": 4,
 "nbformat_minor": 5
}
